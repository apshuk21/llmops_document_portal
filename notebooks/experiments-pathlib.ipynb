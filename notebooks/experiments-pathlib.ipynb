{
 "cells": [
  {
   "cell_type": "code",
   "execution_count": 1,
   "id": "b040d7ee",
   "metadata": {},
   "outputs": [],
   "source": [
    "from pathlib import Path"
   ]
  },
  {
   "cell_type": "code",
   "execution_count": 3,
   "id": "0740d681",
   "metadata": {},
   "outputs": [],
   "source": [
    "current_dir_path = Path.cwd()"
   ]
  },
  {
   "cell_type": "code",
   "execution_count": 4,
   "id": "eaa91702",
   "metadata": {},
   "outputs": [
    {
     "name": "stdout",
     "output_type": "stream",
     "text": [
      "/Users/apoorvashukla/Apoorva/Krish-Naik/LLM-OPS/document_portal/notebooks\n"
     ]
    }
   ],
   "source": [
    "print(current_dir_path)"
   ]
  },
  {
   "cell_type": "code",
   "execution_count": 10,
   "id": "a65d6d28",
   "metadata": {},
   "outputs": [
    {
     "name": "stdout",
     "output_type": "stream",
     "text": [
      "notebooks\n",
      "**********\n",
      "\n"
     ]
    }
   ],
   "source": [
    "print(current_dir_path.stem)\n",
    "print('*'*10)\n",
    "print(current_dir_path.suffix)"
   ]
  },
  {
   "cell_type": "code",
   "execution_count": 5,
   "id": "46d1e913",
   "metadata": {},
   "outputs": [
    {
     "name": "stdout",
     "output_type": "stream",
     "text": [
      "<class 'pathlib.PosixPath'>\n"
     ]
    }
   ],
   "source": [
    "print(type(current_dir_path))"
   ]
  },
  {
   "cell_type": "code",
   "execution_count": 8,
   "id": "4c1bcc24",
   "metadata": {},
   "outputs": [
    {
     "name": "stdout",
     "output_type": "stream",
     "text": [
      ".DS_Store\n",
      "<class 'pathlib.PosixPath'>\n",
      "**********\n",
      "experiments.ipynb\n",
      "<class 'pathlib.PosixPath'>\n",
      "**********\n",
      "experiments-pathlib.ipynb\n",
      "<class 'pathlib.PosixPath'>\n",
      "**********\n",
      "logging_experiment.ipynb\n",
      "<class 'pathlib.PosixPath'>\n",
      "**********\n",
      "logs\n",
      "<class 'pathlib.PosixPath'>\n",
      "**********\n",
      "exceptions-experiment.ipynb\n",
      "<class 'pathlib.PosixPath'>\n",
      "**********\n",
      "data\n",
      "<class 'pathlib.PosixPath'>\n",
      "**********\n"
     ]
    }
   ],
   "source": [
    "for items in Path().iterdir():\n",
    "    print(items)\n",
    "    print(type(items))\n",
    "    print('*'*10)"
   ]
  },
  {
   "cell_type": "code",
   "execution_count": 9,
   "id": "96a7d87e",
   "metadata": {},
   "outputs": [
    {
     "name": "stdout",
     "output_type": "stream",
     "text": [
      "data/sample.pdf\n",
      "<class 'pathlib.PosixPath'>\n"
     ]
    }
   ],
   "source": [
    "sample_data_path = Path('data/sample.pdf')\n",
    "print(sample_data_path)\n",
    "print(type(sample_data_path))"
   ]
  },
  {
   "cell_type": "code",
   "execution_count": 12,
   "id": "00a34fdc",
   "metadata": {},
   "outputs": [],
   "source": [
    "my_dir = Path(\"Directory_1\")"
   ]
  },
  {
   "cell_type": "code",
   "execution_count": 14,
   "id": "c899fc36",
   "metadata": {},
   "outputs": [
    {
     "data": {
      "text/plain": [
       "False"
      ]
     },
     "execution_count": 14,
     "metadata": {},
     "output_type": "execute_result"
    }
   ],
   "source": [
    "my_dir.exists()"
   ]
  },
  {
   "cell_type": "code",
   "execution_count": 15,
   "id": "5543e1e2",
   "metadata": {},
   "outputs": [
    {
     "name": "stdout",
     "output_type": "stream",
     "text": [
      "Directory_1/file_1.txt\n"
     ]
    }
   ],
   "source": [
    "my_file = my_dir / 'file_1.txt'\n",
    "print(my_file)"
   ]
  },
  {
   "cell_type": "code",
   "execution_count": 17,
   "id": "f1081c86",
   "metadata": {},
   "outputs": [
    {
     "data": {
      "text/plain": [
       "'file_1'"
      ]
     },
     "execution_count": 17,
     "metadata": {},
     "output_type": "execute_result"
    }
   ],
   "source": [
    "my_file.suffix\n",
    "my_file.stem"
   ]
  },
  {
   "cell_type": "code",
   "execution_count": 18,
   "id": "61bb9c65",
   "metadata": {},
   "outputs": [
    {
     "data": {
      "text/plain": [
       "''"
      ]
     },
     "execution_count": 18,
     "metadata": {},
     "output_type": "execute_result"
    }
   ],
   "source": [
    "my_dir.suffix"
   ]
  },
  {
   "cell_type": "code",
   "execution_count": 19,
   "id": "90321224",
   "metadata": {},
   "outputs": [
    {
     "data": {
      "text/plain": [
       "'Directory_1'"
      ]
     },
     "execution_count": 19,
     "metadata": {},
     "output_type": "execute_result"
    }
   ],
   "source": [
    "my_dir.stem"
   ]
  },
  {
   "cell_type": "code",
   "execution_count": 20,
   "id": "194556ae",
   "metadata": {},
   "outputs": [
    {
     "data": {
      "text/plain": [
       "PosixPath('.')"
      ]
     },
     "execution_count": 20,
     "metadata": {},
     "output_type": "execute_result"
    }
   ],
   "source": [
    "my_dir.parent"
   ]
  },
  {
   "cell_type": "code",
   "execution_count": 24,
   "id": "ffe16cfe",
   "metadata": {},
   "outputs": [
    {
     "data": {
      "text/plain": [
       "''"
      ]
     },
     "execution_count": 24,
     "metadata": {},
     "output_type": "execute_result"
    }
   ],
   "source": [
    "my_dir.parent.name"
   ]
  },
  {
   "cell_type": "code",
   "execution_count": 21,
   "id": "77565f7d",
   "metadata": {},
   "outputs": [
    {
     "data": {
      "text/plain": [
       "PosixPath('Directory_1')"
      ]
     },
     "execution_count": 21,
     "metadata": {},
     "output_type": "execute_result"
    }
   ],
   "source": [
    "my_file.parent"
   ]
  },
  {
   "cell_type": "code",
   "execution_count": 23,
   "id": "c819526b",
   "metadata": {},
   "outputs": [
    {
     "data": {
      "text/plain": [
       "'Directory_1'"
      ]
     },
     "execution_count": 23,
     "metadata": {},
     "output_type": "execute_result"
    }
   ],
   "source": [
    "my_file.parent.name"
   ]
  },
  {
   "cell_type": "code",
   "execution_count": 25,
   "id": "1877cf9c",
   "metadata": {},
   "outputs": [
    {
     "data": {
      "text/plain": [
       "True"
      ]
     },
     "execution_count": 25,
     "metadata": {},
     "output_type": "execute_result"
    }
   ],
   "source": [
    "my_file.parent.name == 'Directory_1'"
   ]
  },
  {
   "cell_type": "code",
   "execution_count": 26,
   "id": "81b3354a",
   "metadata": {},
   "outputs": [
    {
     "data": {
      "text/plain": [
       "PosixPath('.')"
      ]
     },
     "execution_count": 26,
     "metadata": {},
     "output_type": "execute_result"
    }
   ],
   "source": [
    "my_file.parent.parent"
   ]
  },
  {
   "cell_type": "code",
   "execution_count": 28,
   "id": "f0628e8c",
   "metadata": {},
   "outputs": [
    {
     "data": {
      "text/plain": [
       "PosixPath('.')"
      ]
     },
     "execution_count": 28,
     "metadata": {},
     "output_type": "execute_result"
    }
   ],
   "source": [
    "my_dir.parent.parent.parent"
   ]
  },
  {
   "cell_type": "code",
   "execution_count": 30,
   "id": "148d3454",
   "metadata": {},
   "outputs": [
    {
     "data": {
      "text/plain": [
       "PosixPath('/Users/apoorvashukla/Apoorva/Krish-Naik/LLM-OPS/document_portal/notebooks')"
      ]
     },
     "execution_count": 30,
     "metadata": {},
     "output_type": "execute_result"
    }
   ],
   "source": [
    "my_dir.parent.absolute()"
   ]
  },
  {
   "cell_type": "code",
   "execution_count": 31,
   "id": "7e88efeb",
   "metadata": {},
   "outputs": [
    {
     "data": {
      "text/plain": [
       "PosixPath('/Users/apoorvashukla/Apoorva/Krish-Naik/LLM-OPS/document_portal/notebooks')"
      ]
     },
     "execution_count": 31,
     "metadata": {},
     "output_type": "execute_result"
    }
   ],
   "source": [
    "my_dir.parent.parent.absolute()"
   ]
  },
  {
   "cell_type": "code",
   "execution_count": 32,
   "id": "d5f5a572",
   "metadata": {},
   "outputs": [
    {
     "data": {
      "text/plain": [
       "PosixPath('/Users/apoorvashukla/Apoorva/Krish-Naik/LLM-OPS/document_portal/notebooks/Directory_1')"
      ]
     },
     "execution_count": 32,
     "metadata": {},
     "output_type": "execute_result"
    }
   ],
   "source": [
    "my_dir.absolute()"
   ]
  },
  {
   "cell_type": "code",
   "execution_count": 33,
   "id": "1af4e77a",
   "metadata": {},
   "outputs": [
    {
     "data": {
      "text/plain": [
       "PosixPath('/Users/apoorvashukla/Apoorva/Krish-Naik/LLM-OPS/document_portal/notebooks/Directory_1/file_1.txt')"
      ]
     },
     "execution_count": 33,
     "metadata": {},
     "output_type": "execute_result"
    }
   ],
   "source": [
    "my_file.absolute()"
   ]
  },
  {
   "cell_type": "markdown",
   "id": "2211d50b",
   "metadata": {},
   "source": [
    "## Resolve"
   ]
  },
  {
   "cell_type": "code",
   "execution_count": 34,
   "id": "99b467e3",
   "metadata": {},
   "outputs": [
    {
     "data": {
      "text/plain": [
       "PosixPath('/Users/apoorvashukla/Apoorva/Krish-Naik/LLM-OPS/document_portal/notebooks/Directory_1/file_1.txt')"
      ]
     },
     "execution_count": 34,
     "metadata": {},
     "output_type": "execute_result"
    }
   ],
   "source": [
    "my_file.resolve()"
   ]
  },
  {
   "cell_type": "code",
   "execution_count": 35,
   "id": "2b2a597d",
   "metadata": {},
   "outputs": [],
   "source": [
    "p = Path('..').absolute()"
   ]
  },
  {
   "cell_type": "code",
   "execution_count": 36,
   "id": "996d82f0",
   "metadata": {},
   "outputs": [
    {
     "name": "stdout",
     "output_type": "stream",
     "text": [
      "/Users/apoorvashukla/Apoorva/Krish-Naik/LLM-OPS/document_portal/notebooks/..\n"
     ]
    }
   ],
   "source": [
    "print(p)"
   ]
  },
  {
   "cell_type": "code",
   "execution_count": 37,
   "id": "e89d5705",
   "metadata": {},
   "outputs": [
    {
     "name": "stdout",
     "output_type": "stream",
     "text": [
      "/Users/apoorvashukla/Apoorva/Krish-Naik/LLM-OPS/document_portal\n"
     ]
    }
   ],
   "source": [
    "q = Path('..').resolve()\n",
    "print(q)"
   ]
  },
  {
   "cell_type": "code",
   "execution_count": 42,
   "id": "2c2cf53a",
   "metadata": {},
   "outputs": [
    {
     "name": "stdout",
     "output_type": "stream",
     "text": [
      "/Users/apoorvashukla/Apoorva/Krish-Naik/LLM-OPS/document_portal/notebooks/~\n"
     ]
    }
   ],
   "source": [
    "s = Path(\"~\").resolve()\n",
    "print(s)"
   ]
  },
  {
   "cell_type": "code",
   "execution_count": 43,
   "id": "83415d23",
   "metadata": {},
   "outputs": [
    {
     "name": "stdout",
     "output_type": "stream",
     "text": [
      "/Users/apoorvashukla/Apoorva/Krish-Naik/LLM-OPS/document_portal/notebooks/~\n"
     ]
    }
   ],
   "source": [
    "s = Path(\"~\").absolute()\n",
    "print(s)"
   ]
  },
  {
   "cell_type": "code",
   "execution_count": 44,
   "id": "49ef090a",
   "metadata": {},
   "outputs": [
    {
     "name": "stdout",
     "output_type": "stream",
     "text": [
      "/Users/apoorvashukla\n"
     ]
    }
   ],
   "source": [
    "s = Path(\"~\").expanduser()\n",
    "print(s)"
   ]
  },
  {
   "cell_type": "code",
   "execution_count": 46,
   "id": "0a54f318",
   "metadata": {},
   "outputs": [
    {
     "name": "stdout",
     "output_type": "stream",
     "text": [
      "/Users/apoorvashukla/dotfiles\n"
     ]
    }
   ],
   "source": [
    "s = Path.home() / 'dotfiles'\n",
    "print(s)"
   ]
  }
 ],
 "metadata": {
  "kernelspec": {
   "display_name": "Python 3",
   "language": "python",
   "name": "python3"
  },
  "language_info": {
   "codemirror_mode": {
    "name": "ipython",
    "version": 3
   },
   "file_extension": ".py",
   "mimetype": "text/x-python",
   "name": "python",
   "nbconvert_exporter": "python",
   "pygments_lexer": "ipython3",
   "version": "3.10.18"
  }
 },
 "nbformat": 4,
 "nbformat_minor": 5
}
